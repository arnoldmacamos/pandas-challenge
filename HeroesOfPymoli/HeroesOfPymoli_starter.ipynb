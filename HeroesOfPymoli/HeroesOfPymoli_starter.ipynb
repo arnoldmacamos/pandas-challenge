{
 "cells": [
  {
   "cell_type": "markdown",
   "metadata": {},
   "source": [
    "### Note\n",
    "* Instructions have been included for each segment. You do not have to follow them exactly, but they are included to help you think through the steps."
   ]
  },
  {
   "cell_type": "code",
   "execution_count": 3,
   "metadata": {},
   "outputs": [],
   "source": [
    "# Dependencies and Setup\n",
    "import pandas as pd\n",
    "\n",
    "# File to Load (Remember to Change These)\n",
    "filepath = \"Resources/purchase_data.csv\"\n",
    "\n",
    "# Read Purchasing File and store into Pandas data frame\n",
    "df_purchase_data = pd.read_csv(filepath)"
   ]
  },
  {
   "cell_type": "markdown",
   "metadata": {},
   "source": [
    "## Player Count"
   ]
  },
  {
   "cell_type": "markdown",
   "metadata": {},
   "source": [
    "* Display the total number of players\n"
   ]
  },
  {
   "cell_type": "code",
   "execution_count": 4,
   "metadata": {},
   "outputs": [
    {
     "data": {
      "text/html": [
       "<div>\n",
       "<style scoped>\n",
       "    .dataframe tbody tr th:only-of-type {\n",
       "        vertical-align: middle;\n",
       "    }\n",
       "\n",
       "    .dataframe tbody tr th {\n",
       "        vertical-align: top;\n",
       "    }\n",
       "\n",
       "    .dataframe thead th {\n",
       "        text-align: right;\n",
       "    }\n",
       "</style>\n",
       "<table border=\"1\" class=\"dataframe\">\n",
       "  <thead>\n",
       "    <tr style=\"text-align: right;\">\n",
       "      <th></th>\n",
       "      <th>Total Players</th>\n",
       "    </tr>\n",
       "  </thead>\n",
       "  <tbody>\n",
       "    <tr>\n",
       "      <th>0</th>\n",
       "      <td>576</td>\n",
       "    </tr>\n",
       "  </tbody>\n",
       "</table>\n",
       "</div>"
      ],
      "text/plain": [
       "   Total Players\n",
       "0            576"
      ]
     },
     "execution_count": 4,
     "metadata": {},
     "output_type": "execute_result"
    }
   ],
   "source": [
    "player_count = df_purchase_data['SN'].nunique()\n",
    "df_player_count = pd.DataFrame({'Total Players':[player_count]})\n",
    "df_player_count"
   ]
  },
  {
   "cell_type": "markdown",
   "metadata": {},
   "source": [
    "## Purchasing Analysis (Total)"
   ]
  },
  {
   "cell_type": "markdown",
   "metadata": {},
   "source": [
    "* Run basic calculations to obtain number of unique items, average price, etc.\n",
    "\n",
    "\n",
    "* Create a summary data frame to hold the results\n",
    "\n",
    "\n",
    "* Optional: give the displayed data cleaner formatting\n",
    "\n",
    "\n",
    "* Display the summary data frame\n"
   ]
  },
  {
   "cell_type": "code",
   "execution_count": 5,
   "metadata": {
    "scrolled": true
   },
   "outputs": [
    {
     "data": {
      "text/html": [
       "<div>\n",
       "<style scoped>\n",
       "    .dataframe tbody tr th:only-of-type {\n",
       "        vertical-align: middle;\n",
       "    }\n",
       "\n",
       "    .dataframe tbody tr th {\n",
       "        vertical-align: top;\n",
       "    }\n",
       "\n",
       "    .dataframe thead th {\n",
       "        text-align: right;\n",
       "    }\n",
       "</style>\n",
       "<table border=\"1\" class=\"dataframe\">\n",
       "  <thead>\n",
       "    <tr style=\"text-align: right;\">\n",
       "      <th></th>\n",
       "      <th>Number of Unique Items</th>\n",
       "      <th>Average Price</th>\n",
       "      <th>Number of Purchases</th>\n",
       "      <th>Total Revenue</th>\n",
       "    </tr>\n",
       "  </thead>\n",
       "  <tbody>\n",
       "    <tr>\n",
       "      <th>0</th>\n",
       "      <td>183</td>\n",
       "      <td>$3.05</td>\n",
       "      <td>780</td>\n",
       "      <td>$2,379.77</td>\n",
       "    </tr>\n",
       "  </tbody>\n",
       "</table>\n",
       "</div>"
      ],
      "text/plain": [
       "   Number of Unique Items Average Price  Number of Purchases Total Revenue\n",
       "0                     183         $3.05                  780     $2,379.77"
      ]
     },
     "execution_count": 5,
     "metadata": {},
     "output_type": "execute_result"
    }
   ],
   "source": [
    "item_count = df_purchase_data['Item ID'].nunique()\n",
    "average_price = '${:,.2f}'.format(df_purchase_data['Price'].mean())\n",
    "purchase_count = len(df_purchase_data['Purchase ID'])\n",
    "total_revenue =  '${:,.2f}'.format(df_purchase_data['Price'].sum())\n",
    "df_summ_purchase_analysis = pd.DataFrame({'Number of Unique Items':[item_count],\n",
    "                                         'Average Price':average_price,\n",
    "                                         'Number of Purchases':[purchase_count],\n",
    "                                         'Total Revenue':total_revenue})\n",
    "df_summ_purchase_analysis"
   ]
  },
  {
   "cell_type": "markdown",
   "metadata": {},
   "source": [
    "## Gender Demographics"
   ]
  },
  {
   "cell_type": "markdown",
   "metadata": {},
   "source": [
    "* Percentage and Count of Male Players\n",
    "\n",
    "\n",
    "* Percentage and Count of Female Players\n",
    "\n",
    "\n",
    "* Percentage and Count of Other / Non-Disclosed\n",
    "\n",
    "\n"
   ]
  },
  {
   "cell_type": "code",
   "execution_count": 7,
   "metadata": {},
   "outputs": [
    {
     "data": {
      "text/html": [
       "<style  type=\"text/css\" >\n",
       "</style><table id=\"T_06306a52_f8f5_11e9_b86e_80e82c9370be\" ><thead>    <tr>        <th class=\"blank level0\" ></th>        <th class=\"col_heading level0 col0\" >Total Count</th>        <th class=\"col_heading level0 col1\" >Percentage of Players</th>    </tr></thead><tbody>\n",
       "                <tr>\n",
       "                        <th id=\"T_06306a52_f8f5_11e9_b86e_80e82c9370belevel0_row0\" class=\"row_heading level0 row0\" >Male</th>\n",
       "                        <td id=\"T_06306a52_f8f5_11e9_b86e_80e82c9370berow0_col0\" class=\"data row0 col0\" >484</td>\n",
       "                        <td id=\"T_06306a52_f8f5_11e9_b86e_80e82c9370berow0_col1\" class=\"data row0 col1\" >84.03%</td>\n",
       "            </tr>\n",
       "            <tr>\n",
       "                        <th id=\"T_06306a52_f8f5_11e9_b86e_80e82c9370belevel0_row1\" class=\"row_heading level0 row1\" >Female</th>\n",
       "                        <td id=\"T_06306a52_f8f5_11e9_b86e_80e82c9370berow1_col0\" class=\"data row1 col0\" >81</td>\n",
       "                        <td id=\"T_06306a52_f8f5_11e9_b86e_80e82c9370berow1_col1\" class=\"data row1 col1\" >14.06%</td>\n",
       "            </tr>\n",
       "            <tr>\n",
       "                        <th id=\"T_06306a52_f8f5_11e9_b86e_80e82c9370belevel0_row2\" class=\"row_heading level0 row2\" >Other / Non-Disclosed</th>\n",
       "                        <td id=\"T_06306a52_f8f5_11e9_b86e_80e82c9370berow2_col0\" class=\"data row2 col0\" >11</td>\n",
       "                        <td id=\"T_06306a52_f8f5_11e9_b86e_80e82c9370berow2_col1\" class=\"data row2 col1\" >1.91%</td>\n",
       "            </tr>\n",
       "    </tbody></table>"
      ],
      "text/plain": [
       "<pandas.io.formats.style.Styler at 0x262f0ba4f28>"
      ]
     },
     "execution_count": 7,
     "metadata": {},
     "output_type": "execute_result"
    }
   ],
   "source": [
    "gender_counts = df_purchase_data[['SN','Gender']].drop_duplicates()['Gender'].value_counts()\n",
    "df_count_by_gender =  pd.DataFrame({\"Total Count\": gender_counts})\n",
    "df_count_by_gender['Percentage of Players'] = df_count_by_gender['Total Count']/df_count_by_gender['Total Count'].sum()\n",
    "df_count_by_gender.style.format({'Percentage of Players':'{:.2%}'})\n"
   ]
  },
  {
   "cell_type": "markdown",
   "metadata": {},
   "source": [
    "## Purchasing Analysis (Gender)"
   ]
  },
  {
   "cell_type": "markdown",
   "metadata": {},
   "source": [
    "* Run basic calculations to obtain purchase count, avg. purchase price, avg. purchase total per person etc. by gender\n",
    "\n",
    "\n",
    "\n",
    "\n",
    "* Create a summary data frame to hold the results\n",
    "\n",
    "\n",
    "* Optional: give the displayed data cleaner formatting\n",
    "\n",
    "\n",
    "* Display the summary data frame"
   ]
  },
  {
   "cell_type": "code",
   "execution_count": 9,
   "metadata": {},
   "outputs": [
    {
     "data": {
      "text/html": [
       "<style  type=\"text/css\" >\n",
       "</style><table id=\"T_1b84ae9e_f8f5_11e9_93e5_80e82c9370be\" ><thead>    <tr>        <th class=\"blank level0\" ></th>        <th class=\"col_heading level0 col0\" >Purchase Count</th>        <th class=\"col_heading level0 col1\" >Average Purchase Price</th>        <th class=\"col_heading level0 col2\" >Total Purchase Value</th>        <th class=\"col_heading level0 col3\" >Average Total Purchase per Person</th>    </tr>    <tr>        <th class=\"index_name level0\" >Gender</th>        <th class=\"blank\" ></th>        <th class=\"blank\" ></th>        <th class=\"blank\" ></th>        <th class=\"blank\" ></th>    </tr></thead><tbody>\n",
       "                <tr>\n",
       "                        <th id=\"T_1b84ae9e_f8f5_11e9_93e5_80e82c9370belevel0_row0\" class=\"row_heading level0 row0\" >Female</th>\n",
       "                        <td id=\"T_1b84ae9e_f8f5_11e9_93e5_80e82c9370berow0_col0\" class=\"data row0 col0\" >113</td>\n",
       "                        <td id=\"T_1b84ae9e_f8f5_11e9_93e5_80e82c9370berow0_col1\" class=\"data row0 col1\" >$3.20</td>\n",
       "                        <td id=\"T_1b84ae9e_f8f5_11e9_93e5_80e82c9370berow0_col2\" class=\"data row0 col2\" >$361.94</td>\n",
       "                        <td id=\"T_1b84ae9e_f8f5_11e9_93e5_80e82c9370berow0_col3\" class=\"data row0 col3\" >$4.47</td>\n",
       "            </tr>\n",
       "            <tr>\n",
       "                        <th id=\"T_1b84ae9e_f8f5_11e9_93e5_80e82c9370belevel0_row1\" class=\"row_heading level0 row1\" >Male</th>\n",
       "                        <td id=\"T_1b84ae9e_f8f5_11e9_93e5_80e82c9370berow1_col0\" class=\"data row1 col0\" >652</td>\n",
       "                        <td id=\"T_1b84ae9e_f8f5_11e9_93e5_80e82c9370berow1_col1\" class=\"data row1 col1\" >$3.02</td>\n",
       "                        <td id=\"T_1b84ae9e_f8f5_11e9_93e5_80e82c9370berow1_col2\" class=\"data row1 col2\" >$1,967.64</td>\n",
       "                        <td id=\"T_1b84ae9e_f8f5_11e9_93e5_80e82c9370berow1_col3\" class=\"data row1 col3\" >$4.07</td>\n",
       "            </tr>\n",
       "            <tr>\n",
       "                        <th id=\"T_1b84ae9e_f8f5_11e9_93e5_80e82c9370belevel0_row2\" class=\"row_heading level0 row2\" >Other / Non-Disclosed</th>\n",
       "                        <td id=\"T_1b84ae9e_f8f5_11e9_93e5_80e82c9370berow2_col0\" class=\"data row2 col0\" >15</td>\n",
       "                        <td id=\"T_1b84ae9e_f8f5_11e9_93e5_80e82c9370berow2_col1\" class=\"data row2 col1\" >$3.35</td>\n",
       "                        <td id=\"T_1b84ae9e_f8f5_11e9_93e5_80e82c9370berow2_col2\" class=\"data row2 col2\" >$50.19</td>\n",
       "                        <td id=\"T_1b84ae9e_f8f5_11e9_93e5_80e82c9370berow2_col3\" class=\"data row2 col3\" >$4.56</td>\n",
       "            </tr>\n",
       "    </tbody></table>"
      ],
      "text/plain": [
       "<pandas.io.formats.style.Styler at 0x262f08ce198>"
      ]
     },
     "execution_count": 9,
     "metadata": {},
     "output_type": "execute_result"
    }
   ],
   "source": [
    "\n",
    "group_by_sn_gender = df_purchase_data.groupby(['Gender','SN'])\n",
    "\n",
    "grouped_purchase = pd.DataFrame({'Purchase Count': group_by_sn_gender[\"Gender\"].count(),\n",
    "                   'Total Purchase': group_by_sn_gender[\"Price\"].sum()}).groupby(['Gender'])\n",
    "\n",
    "\n",
    "df_purchase_by_gender = pd.DataFrame({'Purchase Count':grouped_purchase[\"Purchase Count\"].sum(),     \n",
    "                                       'Average Purchase Price': grouped_purchase[\"Total Purchase\"].sum()/grouped_purchase[\"Purchase Count\"].sum(), \n",
    "                                       'Total Purchase Value': grouped_purchase[\"Total Purchase\"].sum(),\n",
    "                                       'Average Total Purchase per Person':grouped_purchase[\"Total Purchase\"].mean()                   \n",
    "                                      })\n",
    "\n",
    "\n",
    "df_purchase_by_gender.style.format({ 'Average Purchase Price': '${:,.2f}',\n",
    "                                                            'Total Purchase Value': '${:,.2f}',\n",
    "                                                            'Average Total Purchase per Person': '${:,.2f}'})\n"
   ]
  },
  {
   "cell_type": "markdown",
   "metadata": {},
   "source": [
    "## Age Demographics"
   ]
  },
  {
   "cell_type": "markdown",
   "metadata": {},
   "source": [
    "* Establish bins for ages\n",
    "\n",
    "\n",
    "* Categorize the existing players using the age bins. Hint: use pd.cut()\n",
    "\n",
    "\n",
    "* Calculate the numbers and percentages by age group\n",
    "\n",
    "\n",
    "* Create a summary data frame to hold the results\n",
    "\n",
    "\n",
    "* Optional: round the percentage column to two decimal points\n",
    "\n",
    "\n",
    "* Display Age Demographics Table\n"
   ]
  },
  {
   "cell_type": "code",
   "execution_count": 10,
   "metadata": {},
   "outputs": [
    {
     "data": {
      "text/html": [
       "<style  type=\"text/css\" >\n",
       "</style><table id=\"T_29ade5f0_f8f5_11e9_9b53_80e82c9370be\" ><thead>    <tr>        <th class=\"blank level0\" ></th>        <th class=\"col_heading level0 col0\" >Total Count</th>        <th class=\"col_heading level0 col1\" >Percentage</th>    </tr>    <tr>        <th class=\"index_name level0\" >Age Ranges</th>        <th class=\"blank\" ></th>        <th class=\"blank\" ></th>    </tr></thead><tbody>\n",
       "                <tr>\n",
       "                        <th id=\"T_29ade5f0_f8f5_11e9_9b53_80e82c9370belevel0_row0\" class=\"row_heading level0 row0\" ><10</th>\n",
       "                        <td id=\"T_29ade5f0_f8f5_11e9_9b53_80e82c9370berow0_col0\" class=\"data row0 col0\" >17</td>\n",
       "                        <td id=\"T_29ade5f0_f8f5_11e9_9b53_80e82c9370berow0_col1\" class=\"data row0 col1\" >2.95%</td>\n",
       "            </tr>\n",
       "            <tr>\n",
       "                        <th id=\"T_29ade5f0_f8f5_11e9_9b53_80e82c9370belevel0_row1\" class=\"row_heading level0 row1\" >10-14</th>\n",
       "                        <td id=\"T_29ade5f0_f8f5_11e9_9b53_80e82c9370berow1_col0\" class=\"data row1 col0\" >22</td>\n",
       "                        <td id=\"T_29ade5f0_f8f5_11e9_9b53_80e82c9370berow1_col1\" class=\"data row1 col1\" >3.82%</td>\n",
       "            </tr>\n",
       "            <tr>\n",
       "                        <th id=\"T_29ade5f0_f8f5_11e9_9b53_80e82c9370belevel0_row2\" class=\"row_heading level0 row2\" >15-19</th>\n",
       "                        <td id=\"T_29ade5f0_f8f5_11e9_9b53_80e82c9370berow2_col0\" class=\"data row2 col0\" >107</td>\n",
       "                        <td id=\"T_29ade5f0_f8f5_11e9_9b53_80e82c9370berow2_col1\" class=\"data row2 col1\" >18.58%</td>\n",
       "            </tr>\n",
       "            <tr>\n",
       "                        <th id=\"T_29ade5f0_f8f5_11e9_9b53_80e82c9370belevel0_row3\" class=\"row_heading level0 row3\" >20-24</th>\n",
       "                        <td id=\"T_29ade5f0_f8f5_11e9_9b53_80e82c9370berow3_col0\" class=\"data row3 col0\" >258</td>\n",
       "                        <td id=\"T_29ade5f0_f8f5_11e9_9b53_80e82c9370berow3_col1\" class=\"data row3 col1\" >44.79%</td>\n",
       "            </tr>\n",
       "            <tr>\n",
       "                        <th id=\"T_29ade5f0_f8f5_11e9_9b53_80e82c9370belevel0_row4\" class=\"row_heading level0 row4\" >25-29</th>\n",
       "                        <td id=\"T_29ade5f0_f8f5_11e9_9b53_80e82c9370berow4_col0\" class=\"data row4 col0\" >77</td>\n",
       "                        <td id=\"T_29ade5f0_f8f5_11e9_9b53_80e82c9370berow4_col1\" class=\"data row4 col1\" >13.37%</td>\n",
       "            </tr>\n",
       "            <tr>\n",
       "                        <th id=\"T_29ade5f0_f8f5_11e9_9b53_80e82c9370belevel0_row5\" class=\"row_heading level0 row5\" >30-34</th>\n",
       "                        <td id=\"T_29ade5f0_f8f5_11e9_9b53_80e82c9370berow5_col0\" class=\"data row5 col0\" >52</td>\n",
       "                        <td id=\"T_29ade5f0_f8f5_11e9_9b53_80e82c9370berow5_col1\" class=\"data row5 col1\" >9.03%</td>\n",
       "            </tr>\n",
       "            <tr>\n",
       "                        <th id=\"T_29ade5f0_f8f5_11e9_9b53_80e82c9370belevel0_row6\" class=\"row_heading level0 row6\" >35-39</th>\n",
       "                        <td id=\"T_29ade5f0_f8f5_11e9_9b53_80e82c9370berow6_col0\" class=\"data row6 col0\" >31</td>\n",
       "                        <td id=\"T_29ade5f0_f8f5_11e9_9b53_80e82c9370berow6_col1\" class=\"data row6 col1\" >5.38%</td>\n",
       "            </tr>\n",
       "            <tr>\n",
       "                        <th id=\"T_29ade5f0_f8f5_11e9_9b53_80e82c9370belevel0_row7\" class=\"row_heading level0 row7\" >40+</th>\n",
       "                        <td id=\"T_29ade5f0_f8f5_11e9_9b53_80e82c9370berow7_col0\" class=\"data row7 col0\" >12</td>\n",
       "                        <td id=\"T_29ade5f0_f8f5_11e9_9b53_80e82c9370berow7_col1\" class=\"data row7 col1\" >2.08%</td>\n",
       "            </tr>\n",
       "    </tbody></table>"
      ],
      "text/plain": [
       "<pandas.io.formats.style.Styler at 0x262efe85b70>"
      ]
     },
     "execution_count": 10,
     "metadata": {},
     "output_type": "execute_result"
    }
   ],
   "source": [
    "bin_ages = [0,9,14,19,24,29,34,39,100]\n",
    "bin_ages_labels = ['<10','10-14','15-19','20-24','25-29','30-34','35-39','40+']\n",
    "df_purchase_data['Age Ranges'] = pd.cut(df_purchase_data[['SN','Age']].drop_duplicates()['Age'], bin_ages, labels = bin_ages_labels)\n",
    "grouped_age_bracket = df_purchase_data.groupby('Age Ranges')\n",
    "df_groupby_age_bracket = pd.DataFrame({'Total Count': grouped_age_bracket['Age'].count(),\n",
    "                                      'Percentage':  grouped_age_bracket['Age'].count()/grouped_age_bracket['Age'].count().sum()})\n",
    "df_groupby_age_bracket.style.format({'Percentage':'{:.2%}'})\n"
   ]
  },
  {
   "cell_type": "markdown",
   "metadata": {},
   "source": [
    "## Purchasing Analysis (Age)"
   ]
  },
  {
   "cell_type": "markdown",
   "metadata": {},
   "source": [
    "* Bin the purchase_data data frame by age\n",
    "\n",
    "\n",
    "* Run basic calculations to obtain purchase count, avg. purchase price, avg. purchase total per person etc. in the table below\n",
    "\n",
    "\n",
    "* Create a summary data frame to hold the results\n",
    "\n",
    "\n",
    "* Optional: give the displayed data cleaner formatting\n",
    "\n",
    "\n",
    "* Display the summary data frame"
   ]
  },
  {
   "cell_type": "code",
   "execution_count": 11,
   "metadata": {},
   "outputs": [
    {
     "data": {
      "text/html": [
       "<style  type=\"text/css\" >\n",
       "</style><table id=\"T_4751e7c0_f8f5_11e9_885a_80e82c9370be\" ><thead>    <tr>        <th class=\"blank level0\" ></th>        <th class=\"col_heading level0 col0\" >Purchase Count</th>        <th class=\"col_heading level0 col1\" >Average Purchase Price</th>        <th class=\"col_heading level0 col2\" >Total Purchase Value</th>        <th class=\"col_heading level0 col3\" >Average Total Purchase per Person</th>    </tr>    <tr>        <th class=\"index_name level0\" >Age Ranges</th>        <th class=\"blank\" ></th>        <th class=\"blank\" ></th>        <th class=\"blank\" ></th>        <th class=\"blank\" ></th>    </tr></thead><tbody>\n",
       "                <tr>\n",
       "                        <th id=\"T_4751e7c0_f8f5_11e9_885a_80e82c9370belevel0_row0\" class=\"row_heading level0 row0\" ><10</th>\n",
       "                        <td id=\"T_4751e7c0_f8f5_11e9_885a_80e82c9370berow0_col0\" class=\"data row0 col0\" >23</td>\n",
       "                        <td id=\"T_4751e7c0_f8f5_11e9_885a_80e82c9370berow0_col1\" class=\"data row0 col1\" >$3.35</td>\n",
       "                        <td id=\"T_4751e7c0_f8f5_11e9_885a_80e82c9370berow0_col2\" class=\"data row0 col2\" >$77.13</td>\n",
       "                        <td id=\"T_4751e7c0_f8f5_11e9_885a_80e82c9370berow0_col3\" class=\"data row0 col3\" >$4.54</td>\n",
       "            </tr>\n",
       "            <tr>\n",
       "                        <th id=\"T_4751e7c0_f8f5_11e9_885a_80e82c9370belevel0_row1\" class=\"row_heading level0 row1\" >10-14</th>\n",
       "                        <td id=\"T_4751e7c0_f8f5_11e9_885a_80e82c9370berow1_col0\" class=\"data row1 col0\" >28</td>\n",
       "                        <td id=\"T_4751e7c0_f8f5_11e9_885a_80e82c9370berow1_col1\" class=\"data row1 col1\" >$2.96</td>\n",
       "                        <td id=\"T_4751e7c0_f8f5_11e9_885a_80e82c9370berow1_col2\" class=\"data row1 col2\" >$82.78</td>\n",
       "                        <td id=\"T_4751e7c0_f8f5_11e9_885a_80e82c9370berow1_col3\" class=\"data row1 col3\" >$3.76</td>\n",
       "            </tr>\n",
       "            <tr>\n",
       "                        <th id=\"T_4751e7c0_f8f5_11e9_885a_80e82c9370belevel0_row2\" class=\"row_heading level0 row2\" >15-19</th>\n",
       "                        <td id=\"T_4751e7c0_f8f5_11e9_885a_80e82c9370berow2_col0\" class=\"data row2 col0\" >136</td>\n",
       "                        <td id=\"T_4751e7c0_f8f5_11e9_885a_80e82c9370berow2_col1\" class=\"data row2 col1\" >$3.04</td>\n",
       "                        <td id=\"T_4751e7c0_f8f5_11e9_885a_80e82c9370berow2_col2\" class=\"data row2 col2\" >$412.89</td>\n",
       "                        <td id=\"T_4751e7c0_f8f5_11e9_885a_80e82c9370berow2_col3\" class=\"data row2 col3\" >$3.86</td>\n",
       "            </tr>\n",
       "            <tr>\n",
       "                        <th id=\"T_4751e7c0_f8f5_11e9_885a_80e82c9370belevel0_row3\" class=\"row_heading level0 row3\" >20-24</th>\n",
       "                        <td id=\"T_4751e7c0_f8f5_11e9_885a_80e82c9370berow3_col0\" class=\"data row3 col0\" >365</td>\n",
       "                        <td id=\"T_4751e7c0_f8f5_11e9_885a_80e82c9370berow3_col1\" class=\"data row3 col1\" >$3.05</td>\n",
       "                        <td id=\"T_4751e7c0_f8f5_11e9_885a_80e82c9370berow3_col2\" class=\"data row3 col2\" >$1,114.06</td>\n",
       "                        <td id=\"T_4751e7c0_f8f5_11e9_885a_80e82c9370berow3_col3\" class=\"data row3 col3\" >$4.32</td>\n",
       "            </tr>\n",
       "            <tr>\n",
       "                        <th id=\"T_4751e7c0_f8f5_11e9_885a_80e82c9370belevel0_row4\" class=\"row_heading level0 row4\" >25-29</th>\n",
       "                        <td id=\"T_4751e7c0_f8f5_11e9_885a_80e82c9370berow4_col0\" class=\"data row4 col0\" >101</td>\n",
       "                        <td id=\"T_4751e7c0_f8f5_11e9_885a_80e82c9370berow4_col1\" class=\"data row4 col1\" >$2.90</td>\n",
       "                        <td id=\"T_4751e7c0_f8f5_11e9_885a_80e82c9370berow4_col2\" class=\"data row4 col2\" >$293.00</td>\n",
       "                        <td id=\"T_4751e7c0_f8f5_11e9_885a_80e82c9370berow4_col3\" class=\"data row4 col3\" >$3.81</td>\n",
       "            </tr>\n",
       "            <tr>\n",
       "                        <th id=\"T_4751e7c0_f8f5_11e9_885a_80e82c9370belevel0_row5\" class=\"row_heading level0 row5\" >30-34</th>\n",
       "                        <td id=\"T_4751e7c0_f8f5_11e9_885a_80e82c9370berow5_col0\" class=\"data row5 col0\" >73</td>\n",
       "                        <td id=\"T_4751e7c0_f8f5_11e9_885a_80e82c9370berow5_col1\" class=\"data row5 col1\" >$2.93</td>\n",
       "                        <td id=\"T_4751e7c0_f8f5_11e9_885a_80e82c9370berow5_col2\" class=\"data row5 col2\" >$214.00</td>\n",
       "                        <td id=\"T_4751e7c0_f8f5_11e9_885a_80e82c9370berow5_col3\" class=\"data row5 col3\" >$4.12</td>\n",
       "            </tr>\n",
       "            <tr>\n",
       "                        <th id=\"T_4751e7c0_f8f5_11e9_885a_80e82c9370belevel0_row6\" class=\"row_heading level0 row6\" >35-39</th>\n",
       "                        <td id=\"T_4751e7c0_f8f5_11e9_885a_80e82c9370berow6_col0\" class=\"data row6 col0\" >41</td>\n",
       "                        <td id=\"T_4751e7c0_f8f5_11e9_885a_80e82c9370berow6_col1\" class=\"data row6 col1\" >$3.60</td>\n",
       "                        <td id=\"T_4751e7c0_f8f5_11e9_885a_80e82c9370berow6_col2\" class=\"data row6 col2\" >$147.67</td>\n",
       "                        <td id=\"T_4751e7c0_f8f5_11e9_885a_80e82c9370berow6_col3\" class=\"data row6 col3\" >$4.76</td>\n",
       "            </tr>\n",
       "            <tr>\n",
       "                        <th id=\"T_4751e7c0_f8f5_11e9_885a_80e82c9370belevel0_row7\" class=\"row_heading level0 row7\" >40+</th>\n",
       "                        <td id=\"T_4751e7c0_f8f5_11e9_885a_80e82c9370berow7_col0\" class=\"data row7 col0\" >13</td>\n",
       "                        <td id=\"T_4751e7c0_f8f5_11e9_885a_80e82c9370berow7_col1\" class=\"data row7 col1\" >$2.94</td>\n",
       "                        <td id=\"T_4751e7c0_f8f5_11e9_885a_80e82c9370berow7_col2\" class=\"data row7 col2\" >$38.24</td>\n",
       "                        <td id=\"T_4751e7c0_f8f5_11e9_885a_80e82c9370berow7_col3\" class=\"data row7 col3\" >$3.19</td>\n",
       "            </tr>\n",
       "    </tbody></table>"
      ],
      "text/plain": [
       "<pandas.io.formats.style.Styler at 0x262f0bef128>"
      ]
     },
     "execution_count": 11,
     "metadata": {},
     "output_type": "execute_result"
    }
   ],
   "source": [
    "df_purchase_data['Age Ranges'] = pd.cut(df_purchase_data[['SN','Age']]['Age'], bin_ages, labels = bin_ages_labels)\n",
    "\n",
    "\n",
    "group_by_sn_agebracket = df_purchase_data.groupby(['Age Ranges','SN'])    \n",
    "\n",
    "\n",
    "grouped_purchase_by_agebracket = pd.DataFrame({'Purchase Count': group_by_sn_agebracket[\"Age Ranges\"].count(),\n",
    "                   'Total Purchase': group_by_sn_agebracket[\"Price\"].sum()}).groupby(['Age Ranges'])\n",
    "\n",
    "\n",
    "df_purchase_by_agebracket = pd.DataFrame({'Purchase Count':grouped_purchase_by_agebracket[\"Purchase Count\"].sum(),     \n",
    "                                       'Average Purchase Price': grouped_purchase_by_agebracket[\"Total Purchase\"].sum()/grouped_purchase_by_agebracket[\"Purchase Count\"].sum(), \n",
    "                                       'Total Purchase Value': grouped_purchase_by_agebracket[\"Total Purchase\"].sum(),\n",
    "                                       'Average Total Purchase per Person':grouped_purchase_by_agebracket[\"Total Purchase\"].mean()                   \n",
    "                                      })\n",
    "\n",
    "\n",
    "df_purchase_by_agebracket.style.format({ 'Average Purchase Price': '${:,.2f}',\n",
    "                                                            'Total Purchase Value': '${:,.2f}',\n",
    "                                                            'Average Total Purchase per Person': '${:,.2f}'})\n",
    "\n"
   ]
  },
  {
   "cell_type": "markdown",
   "metadata": {},
   "source": [
    "## Top Spenders"
   ]
  },
  {
   "cell_type": "markdown",
   "metadata": {},
   "source": [
    "* Run basic calculations to obtain the results in the table below\n",
    "\n",
    "\n",
    "* Create a summary data frame to hold the results\n",
    "\n",
    "\n",
    "* Sort the total purchase value column in descending order\n",
    "\n",
    "\n",
    "* Optional: give the displayed data cleaner formatting\n",
    "\n",
    "\n",
    "* Display a preview of the summary data frame\n",
    "\n"
   ]
  },
  {
   "cell_type": "code",
   "execution_count": 12,
   "metadata": {},
   "outputs": [
    {
     "data": {
      "text/html": [
       "<style  type=\"text/css\" >\n",
       "</style><table id=\"T_551b863e_f8f5_11e9_b4c5_80e82c9370be\" ><thead>    <tr>        <th class=\"blank level0\" ></th>        <th class=\"col_heading level0 col0\" >Purchase Count</th>        <th class=\"col_heading level0 col1\" >Average Purchase Price</th>        <th class=\"col_heading level0 col2\" >Total Purchase Value</th>    </tr>    <tr>        <th class=\"index_name level0\" >SN</th>        <th class=\"blank\" ></th>        <th class=\"blank\" ></th>        <th class=\"blank\" ></th>    </tr></thead><tbody>\n",
       "                <tr>\n",
       "                        <th id=\"T_551b863e_f8f5_11e9_b4c5_80e82c9370belevel0_row0\" class=\"row_heading level0 row0\" >Lisosia93</th>\n",
       "                        <td id=\"T_551b863e_f8f5_11e9_b4c5_80e82c9370berow0_col0\" class=\"data row0 col0\" >5</td>\n",
       "                        <td id=\"T_551b863e_f8f5_11e9_b4c5_80e82c9370berow0_col1\" class=\"data row0 col1\" >$3.79</td>\n",
       "                        <td id=\"T_551b863e_f8f5_11e9_b4c5_80e82c9370berow0_col2\" class=\"data row0 col2\" >$18.96</td>\n",
       "            </tr>\n",
       "            <tr>\n",
       "                        <th id=\"T_551b863e_f8f5_11e9_b4c5_80e82c9370belevel0_row1\" class=\"row_heading level0 row1\" >Idastidru52</th>\n",
       "                        <td id=\"T_551b863e_f8f5_11e9_b4c5_80e82c9370berow1_col0\" class=\"data row1 col0\" >4</td>\n",
       "                        <td id=\"T_551b863e_f8f5_11e9_b4c5_80e82c9370berow1_col1\" class=\"data row1 col1\" >$3.86</td>\n",
       "                        <td id=\"T_551b863e_f8f5_11e9_b4c5_80e82c9370berow1_col2\" class=\"data row1 col2\" >$15.45</td>\n",
       "            </tr>\n",
       "            <tr>\n",
       "                        <th id=\"T_551b863e_f8f5_11e9_b4c5_80e82c9370belevel0_row2\" class=\"row_heading level0 row2\" >Chamjask73</th>\n",
       "                        <td id=\"T_551b863e_f8f5_11e9_b4c5_80e82c9370berow2_col0\" class=\"data row2 col0\" >3</td>\n",
       "                        <td id=\"T_551b863e_f8f5_11e9_b4c5_80e82c9370berow2_col1\" class=\"data row2 col1\" >$4.61</td>\n",
       "                        <td id=\"T_551b863e_f8f5_11e9_b4c5_80e82c9370berow2_col2\" class=\"data row2 col2\" >$13.83</td>\n",
       "            </tr>\n",
       "            <tr>\n",
       "                        <th id=\"T_551b863e_f8f5_11e9_b4c5_80e82c9370belevel0_row3\" class=\"row_heading level0 row3\" >Iral74</th>\n",
       "                        <td id=\"T_551b863e_f8f5_11e9_b4c5_80e82c9370berow3_col0\" class=\"data row3 col0\" >4</td>\n",
       "                        <td id=\"T_551b863e_f8f5_11e9_b4c5_80e82c9370berow3_col1\" class=\"data row3 col1\" >$3.40</td>\n",
       "                        <td id=\"T_551b863e_f8f5_11e9_b4c5_80e82c9370berow3_col2\" class=\"data row3 col2\" >$13.62</td>\n",
       "            </tr>\n",
       "            <tr>\n",
       "                        <th id=\"T_551b863e_f8f5_11e9_b4c5_80e82c9370belevel0_row4\" class=\"row_heading level0 row4\" >Iskadarya95</th>\n",
       "                        <td id=\"T_551b863e_f8f5_11e9_b4c5_80e82c9370berow4_col0\" class=\"data row4 col0\" >3</td>\n",
       "                        <td id=\"T_551b863e_f8f5_11e9_b4c5_80e82c9370berow4_col1\" class=\"data row4 col1\" >$4.37</td>\n",
       "                        <td id=\"T_551b863e_f8f5_11e9_b4c5_80e82c9370berow4_col2\" class=\"data row4 col2\" >$13.10</td>\n",
       "            </tr>\n",
       "    </tbody></table>"
      ],
      "text/plain": [
       "<pandas.io.formats.style.Styler at 0x262efe859b0>"
      ]
     },
     "execution_count": 12,
     "metadata": {},
     "output_type": "execute_result"
    }
   ],
   "source": [
    "group_by_sn = df_purchase_data.groupby(['SN'])\n",
    "\n",
    "df_top_spenders = pd.DataFrame({'Purchase Count':group_by_sn['SN'].count(),\n",
    "                                'Average Purchase Price':group_by_sn['Price'].sum()/group_by_sn['SN'].count(),\n",
    "                                'Total Purchase Value': group_by_sn['Price'].sum()\n",
    "                                }).sort_values('Total Purchase Value', ascending=False).head()\n",
    "\n",
    "df_top_spenders.style.format({ 'Average Purchase Price': '${:,.2f}',\n",
    "                                                'Total Purchase Value': '${:,.2f}'})\n",
    "\n"
   ]
  },
  {
   "cell_type": "markdown",
   "metadata": {},
   "source": [
    "## Most Popular Items"
   ]
  },
  {
   "cell_type": "markdown",
   "metadata": {},
   "source": [
    "* Retrieve the Item ID, Item Name, and Item Price columns\n",
    "\n",
    "\n",
    "* Group by Item ID and Item Name. Perform calculations to obtain purchase count, item price, and total purchase value\n",
    "\n",
    "\n",
    "* Create a summary data frame to hold the results\n",
    "\n",
    "\n",
    "* Sort the purchase count column in descending order\n",
    "\n",
    "\n",
    "* Optional: give the displayed data cleaner formatting\n",
    "\n",
    "\n",
    "* Display a preview of the summary data frame\n",
    "\n"
   ]
  },
  {
   "cell_type": "code",
   "execution_count": 21,
   "metadata": {},
   "outputs": [
    {
     "data": {
      "text/html": [
       "<style  type=\"text/css\" >\n",
       "</style><table id=\"T_69789086_f8f4_11e9_ab23_80e82c9370be\" ><thead>    <tr>        <th class=\"blank\" ></th>        <th class=\"blank level0\" ></th>        <th class=\"col_heading level0 col0\" >Purchase Count</th>        <th class=\"col_heading level0 col1\" >Item Price</th>        <th class=\"col_heading level0 col2\" >Total Purchase Value</th>    </tr>    <tr>        <th class=\"index_name level0\" >Item ID</th>        <th class=\"index_name level1\" >Item Name</th>        <th class=\"blank\" ></th>        <th class=\"blank\" ></th>        <th class=\"blank\" ></th>    </tr></thead><tbody>\n",
       "                <tr>\n",
       "                        <th id=\"T_69789086_f8f4_11e9_ab23_80e82c9370belevel0_row0\" class=\"row_heading level0 row0\" >178</th>\n",
       "                        <th id=\"T_69789086_f8f4_11e9_ab23_80e82c9370belevel1_row0\" class=\"row_heading level1 row0\" >Oathbreaker, Last Hope of the Breaking Storm</th>\n",
       "                        <td id=\"T_69789086_f8f4_11e9_ab23_80e82c9370berow0_col0\" class=\"data row0 col0\" >12</td>\n",
       "                        <td id=\"T_69789086_f8f4_11e9_ab23_80e82c9370berow0_col1\" class=\"data row0 col1\" >$4.23</td>\n",
       "                        <td id=\"T_69789086_f8f4_11e9_ab23_80e82c9370berow0_col2\" class=\"data row0 col2\" >$50.76</td>\n",
       "            </tr>\n",
       "            <tr>\n",
       "                        <th id=\"T_69789086_f8f4_11e9_ab23_80e82c9370belevel0_row1\" class=\"row_heading level0 row1\" >145</th>\n",
       "                        <th id=\"T_69789086_f8f4_11e9_ab23_80e82c9370belevel1_row1\" class=\"row_heading level1 row1\" >Fiery Glass Crusader</th>\n",
       "                        <td id=\"T_69789086_f8f4_11e9_ab23_80e82c9370berow1_col0\" class=\"data row1 col0\" >9</td>\n",
       "                        <td id=\"T_69789086_f8f4_11e9_ab23_80e82c9370berow1_col1\" class=\"data row1 col1\" >$4.58</td>\n",
       "                        <td id=\"T_69789086_f8f4_11e9_ab23_80e82c9370berow1_col2\" class=\"data row1 col2\" >$41.22</td>\n",
       "            </tr>\n",
       "            <tr>\n",
       "                        <th id=\"T_69789086_f8f4_11e9_ab23_80e82c9370belevel0_row2\" class=\"row_heading level0 row2\" >108</th>\n",
       "                        <th id=\"T_69789086_f8f4_11e9_ab23_80e82c9370belevel1_row2\" class=\"row_heading level1 row2\" >Extraction, Quickblade Of Trembling Hands</th>\n",
       "                        <td id=\"T_69789086_f8f4_11e9_ab23_80e82c9370berow2_col0\" class=\"data row2 col0\" >9</td>\n",
       "                        <td id=\"T_69789086_f8f4_11e9_ab23_80e82c9370berow2_col1\" class=\"data row2 col1\" >$3.53</td>\n",
       "                        <td id=\"T_69789086_f8f4_11e9_ab23_80e82c9370berow2_col2\" class=\"data row2 col2\" >$31.77</td>\n",
       "            </tr>\n",
       "            <tr>\n",
       "                        <th id=\"T_69789086_f8f4_11e9_ab23_80e82c9370belevel0_row3\" class=\"row_heading level0 row3\" >82</th>\n",
       "                        <th id=\"T_69789086_f8f4_11e9_ab23_80e82c9370belevel1_row3\" class=\"row_heading level1 row3\" >Nirvana</th>\n",
       "                        <td id=\"T_69789086_f8f4_11e9_ab23_80e82c9370berow3_col0\" class=\"data row3 col0\" >9</td>\n",
       "                        <td id=\"T_69789086_f8f4_11e9_ab23_80e82c9370berow3_col1\" class=\"data row3 col1\" >$4.90</td>\n",
       "                        <td id=\"T_69789086_f8f4_11e9_ab23_80e82c9370berow3_col2\" class=\"data row3 col2\" >$44.10</td>\n",
       "            </tr>\n",
       "            <tr>\n",
       "                        <th id=\"T_69789086_f8f4_11e9_ab23_80e82c9370belevel0_row4\" class=\"row_heading level0 row4\" >19</th>\n",
       "                        <th id=\"T_69789086_f8f4_11e9_ab23_80e82c9370belevel1_row4\" class=\"row_heading level1 row4\" >Pursuit, Cudgel of Necromancy</th>\n",
       "                        <td id=\"T_69789086_f8f4_11e9_ab23_80e82c9370berow4_col0\" class=\"data row4 col0\" >8</td>\n",
       "                        <td id=\"T_69789086_f8f4_11e9_ab23_80e82c9370berow4_col1\" class=\"data row4 col1\" >$1.02</td>\n",
       "                        <td id=\"T_69789086_f8f4_11e9_ab23_80e82c9370berow4_col2\" class=\"data row4 col2\" >$8.16</td>\n",
       "            </tr>\n",
       "    </tbody></table>"
      ],
      "text/plain": [
       "<pandas.io.formats.style.Styler at 0x220094cf9e8>"
      ]
     },
     "execution_count": 21,
     "metadata": {},
     "output_type": "execute_result"
    }
   ],
   "source": [
    "group_by_item = df_purchase_data.groupby(['Item ID', 'Item Name'])\n",
    "\n",
    "df_popular_item = pd.DataFrame({'Purchase Count':group_by_item['Item ID'].count(),\n",
    "                                'Item Price':group_by_item['Price'].mean(),\n",
    "                                'Total Purchase Value': group_by_item['Price'].sum()\n",
    "                                })\n",
    "\n",
    "df_popular_item.sort_values('Purchase Count', ascending=False).head().style.format({ 'Item Price': '${:,.2f}',\n",
    "                                                'Total Purchase Value': '${:,.2f}'})\n"
   ]
  },
  {
   "cell_type": "markdown",
   "metadata": {},
   "source": [
    "## Most Profitable Items"
   ]
  },
  {
   "cell_type": "markdown",
   "metadata": {},
   "source": [
    "* Sort the above table by total purchase value in descending order\n",
    "\n",
    "\n",
    "* Optional: give the displayed data cleaner formatting\n",
    "\n",
    "\n",
    "* Display a preview of the data frame\n",
    "\n"
   ]
  },
  {
   "cell_type": "code",
   "execution_count": 22,
   "metadata": {
    "scrolled": true
   },
   "outputs": [
    {
     "data": {
      "text/html": [
       "<style  type=\"text/css\" >\n",
       "</style><table id=\"T_7f46957e_f8f4_11e9_8990_80e82c9370be\" ><thead>    <tr>        <th class=\"blank\" ></th>        <th class=\"blank level0\" ></th>        <th class=\"col_heading level0 col0\" >Purchase Count</th>        <th class=\"col_heading level0 col1\" >Item Price</th>        <th class=\"col_heading level0 col2\" >Total Purchase Value</th>    </tr>    <tr>        <th class=\"index_name level0\" >Item ID</th>        <th class=\"index_name level1\" >Item Name</th>        <th class=\"blank\" ></th>        <th class=\"blank\" ></th>        <th class=\"blank\" ></th>    </tr></thead><tbody>\n",
       "                <tr>\n",
       "                        <th id=\"T_7f46957e_f8f4_11e9_8990_80e82c9370belevel0_row0\" class=\"row_heading level0 row0\" >178</th>\n",
       "                        <th id=\"T_7f46957e_f8f4_11e9_8990_80e82c9370belevel1_row0\" class=\"row_heading level1 row0\" >Oathbreaker, Last Hope of the Breaking Storm</th>\n",
       "                        <td id=\"T_7f46957e_f8f4_11e9_8990_80e82c9370berow0_col0\" class=\"data row0 col0\" >12</td>\n",
       "                        <td id=\"T_7f46957e_f8f4_11e9_8990_80e82c9370berow0_col1\" class=\"data row0 col1\" >$4.23</td>\n",
       "                        <td id=\"T_7f46957e_f8f4_11e9_8990_80e82c9370berow0_col2\" class=\"data row0 col2\" >$50.76</td>\n",
       "            </tr>\n",
       "            <tr>\n",
       "                        <th id=\"T_7f46957e_f8f4_11e9_8990_80e82c9370belevel0_row1\" class=\"row_heading level0 row1\" >82</th>\n",
       "                        <th id=\"T_7f46957e_f8f4_11e9_8990_80e82c9370belevel1_row1\" class=\"row_heading level1 row1\" >Nirvana</th>\n",
       "                        <td id=\"T_7f46957e_f8f4_11e9_8990_80e82c9370berow1_col0\" class=\"data row1 col0\" >9</td>\n",
       "                        <td id=\"T_7f46957e_f8f4_11e9_8990_80e82c9370berow1_col1\" class=\"data row1 col1\" >$4.90</td>\n",
       "                        <td id=\"T_7f46957e_f8f4_11e9_8990_80e82c9370berow1_col2\" class=\"data row1 col2\" >$44.10</td>\n",
       "            </tr>\n",
       "            <tr>\n",
       "                        <th id=\"T_7f46957e_f8f4_11e9_8990_80e82c9370belevel0_row2\" class=\"row_heading level0 row2\" >145</th>\n",
       "                        <th id=\"T_7f46957e_f8f4_11e9_8990_80e82c9370belevel1_row2\" class=\"row_heading level1 row2\" >Fiery Glass Crusader</th>\n",
       "                        <td id=\"T_7f46957e_f8f4_11e9_8990_80e82c9370berow2_col0\" class=\"data row2 col0\" >9</td>\n",
       "                        <td id=\"T_7f46957e_f8f4_11e9_8990_80e82c9370berow2_col1\" class=\"data row2 col1\" >$4.58</td>\n",
       "                        <td id=\"T_7f46957e_f8f4_11e9_8990_80e82c9370berow2_col2\" class=\"data row2 col2\" >$41.22</td>\n",
       "            </tr>\n",
       "            <tr>\n",
       "                        <th id=\"T_7f46957e_f8f4_11e9_8990_80e82c9370belevel0_row3\" class=\"row_heading level0 row3\" >92</th>\n",
       "                        <th id=\"T_7f46957e_f8f4_11e9_8990_80e82c9370belevel1_row3\" class=\"row_heading level1 row3\" >Final Critic</th>\n",
       "                        <td id=\"T_7f46957e_f8f4_11e9_8990_80e82c9370berow3_col0\" class=\"data row3 col0\" >8</td>\n",
       "                        <td id=\"T_7f46957e_f8f4_11e9_8990_80e82c9370berow3_col1\" class=\"data row3 col1\" >$4.88</td>\n",
       "                        <td id=\"T_7f46957e_f8f4_11e9_8990_80e82c9370berow3_col2\" class=\"data row3 col2\" >$39.04</td>\n",
       "            </tr>\n",
       "            <tr>\n",
       "                        <th id=\"T_7f46957e_f8f4_11e9_8990_80e82c9370belevel0_row4\" class=\"row_heading level0 row4\" >103</th>\n",
       "                        <th id=\"T_7f46957e_f8f4_11e9_8990_80e82c9370belevel1_row4\" class=\"row_heading level1 row4\" >Singed Scalpel</th>\n",
       "                        <td id=\"T_7f46957e_f8f4_11e9_8990_80e82c9370berow4_col0\" class=\"data row4 col0\" >8</td>\n",
       "                        <td id=\"T_7f46957e_f8f4_11e9_8990_80e82c9370berow4_col1\" class=\"data row4 col1\" >$4.35</td>\n",
       "                        <td id=\"T_7f46957e_f8f4_11e9_8990_80e82c9370berow4_col2\" class=\"data row4 col2\" >$34.80</td>\n",
       "            </tr>\n",
       "    </tbody></table>"
      ],
      "text/plain": [
       "<pandas.io.formats.style.Styler at 0x220099220f0>"
      ]
     },
     "execution_count": 22,
     "metadata": {},
     "output_type": "execute_result"
    }
   ],
   "source": [
    "df_popular_item.sort_values('Total Purchase Value', ascending=False).head().style.format({ 'Item Price': '${:,.2f}',\n",
    "                                                'Total Purchase Value': '${:,.2f}'})"
   ]
  }
 ],
 "metadata": {
  "anaconda-cloud": {},
  "kernel_info": {
   "name": "python3"
  },
  "kernelspec": {
   "display_name": "Python 3",
   "language": "python",
   "name": "python3"
  },
  "language_info": {
   "codemirror_mode": {
    "name": "ipython",
    "version": 3
   },
   "file_extension": ".py",
   "mimetype": "text/x-python",
   "name": "python",
   "nbconvert_exporter": "python",
   "pygments_lexer": "ipython3",
   "version": "3.7.3"
  },
  "latex_envs": {
   "LaTeX_envs_menu_present": true,
   "autoclose": false,
   "autocomplete": true,
   "bibliofile": "biblio.bib",
   "cite_by": "apalike",
   "current_citInitial": 1,
   "eqLabelWithNumbers": true,
   "eqNumInitial": 1,
   "hotkeys": {
    "equation": "Ctrl-E",
    "itemize": "Ctrl-I"
   },
   "labels_anchors": false,
   "latex_user_defs": false,
   "report_style_numbering": false,
   "user_envs_cfg": false
  },
  "nteract": {
   "version": "0.2.0"
  }
 },
 "nbformat": 4,
 "nbformat_minor": 2
}
